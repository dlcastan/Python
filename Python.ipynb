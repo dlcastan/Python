{
  "nbformat": 4,
  "nbformat_minor": 0,
  "metadata": {
    "colab": {
      "provenance": []
    },
    "kernelspec": {
      "name": "python3",
      "display_name": "Python 3"
    },
    "language_info": {
      "name": "python"
    }
  },
  "cells": [
    {
      "cell_type": "markdown",
      "source": [
        "# Python\n",
        "\n",
        "Autor: Diego Lopez Castan\n",
        "\n",
        "URL: https://diegolopezcastan.com/"
      ],
      "metadata": {
        "id": "_UYx5-ZZ3sLZ"
      }
    },
    {
      "cell_type": "markdown",
      "source": [
        "## Variables"
      ],
      "metadata": {
        "id": "-Ik7lu4fDIxA"
      }
    },
    {
      "cell_type": "code",
      "source": [
        "# Variable int\n",
        "a = 2\n",
        "print(type(a))"
      ],
      "metadata": {
        "colab": {
          "base_uri": "https://localhost:8080/"
        },
        "id": "v1JRtlxtDMPJ",
        "outputId": "41a792d1-8ff5-445a-fd4f-c7bcfb111483"
      },
      "execution_count": null,
      "outputs": [
        {
          "output_type": "stream",
          "name": "stdout",
          "text": [
            "<class 'int'>\n"
          ]
        }
      ]
    },
    {
      "cell_type": "code",
      "source": [
        "# Variable str\n",
        "b = \"Diego\"\n",
        "\n",
        "print(type(b))"
      ],
      "metadata": {
        "colab": {
          "base_uri": "https://localhost:8080/"
        },
        "id": "C4FrTKSCEoPw",
        "outputId": "8f582aae-956a-4df9-de18-f618f81d5a1c"
      },
      "execution_count": null,
      "outputs": [
        {
          "output_type": "stream",
          "name": "stdout",
          "text": [
            "<class 'str'>\n"
          ]
        }
      ]
    },
    {
      "cell_type": "code",
      "source": [
        "# Variable bolean\n",
        "c = True\n",
        "\n",
        "print(type(c))"
      ],
      "metadata": {
        "colab": {
          "base_uri": "https://localhost:8080/"
        },
        "id": "QFJmqOxiFDvY",
        "outputId": "6a007473-4596-454a-e478-8b441e8dcf9b"
      },
      "execution_count": null,
      "outputs": [
        {
          "output_type": "stream",
          "name": "stdout",
          "text": [
            "<class 'bool'>\n"
          ]
        }
      ]
    },
    {
      "cell_type": "code",
      "source": [
        "# Variable Flaot\n",
        "d = 3.14\n",
        "\n",
        "print(type(d))"
      ],
      "metadata": {
        "colab": {
          "base_uri": "https://localhost:8080/"
        },
        "id": "1ijnFmFXFM_0",
        "outputId": "70f96382-f3ca-4fcb-e179-b6fe142cf349"
      },
      "execution_count": null,
      "outputs": [
        {
          "output_type": "stream",
          "name": "stdout",
          "text": [
            "<class 'float'>\n"
          ]
        }
      ]
    },
    {
      "cell_type": "markdown",
      "source": [
        "## Operadores Aritméticos"
      ],
      "metadata": {
        "id": "-5axNHG04qO0"
      }
    },
    {
      "cell_type": "code",
      "source": [
        "# Suma\n",
        "suma = 9 + 2\n",
        "\n",
        "# Resta\n",
        "resta = 9 - 2\n",
        "\n",
        "# Division\n",
        "div = 10 + 2\n",
        "\n",
        "# Exponente\n",
        "exp = 10 ** 2\n",
        "\n",
        "print('Suma: '  , suma)\n",
        "print('Resta: ' , resta)\n",
        "print('Division: ' , div)\n",
        "print('Exponente: ' , exp)"
      ],
      "metadata": {
        "colab": {
          "base_uri": "https://localhost:8080/"
        },
        "id": "X51JJf3l3218",
        "outputId": "a9fbb8ac-c29d-4815-fcd8-1f67de6e3147"
      },
      "execution_count": null,
      "outputs": [
        {
          "output_type": "stream",
          "name": "stdout",
          "text": [
            "Suma:  11\n",
            "Resta:  7\n",
            "Division:  12\n",
            "Exponente:  100\n"
          ]
        }
      ]
    },
    {
      "cell_type": "markdown",
      "source": [
        "## Condicional IF"
      ],
      "metadata": {
        "id": "tuIZRsGG8T-7"
      }
    },
    {
      "cell_type": "code",
      "source": [
        "# Igual: a == b\n",
        "a = 4\n",
        "b = 4\n",
        "\n",
        "if a == b:\n",
        "  print('a y b son iguales')"
      ],
      "metadata": {
        "colab": {
          "base_uri": "https://localhost:8080/"
        },
        "id": "fLHYA7R26xMP",
        "outputId": "9e90a159-25b6-46bd-9314-c848dc72ef13"
      },
      "execution_count": null,
      "outputs": [
        {
          "output_type": "stream",
          "name": "stdout",
          "text": [
            "a y b son iguales\n"
          ]
        }
      ]
    },
    {
      "cell_type": "code",
      "source": [
        "# No Igual: a != b\n",
        "a = 2\n",
        "b = 4\n",
        "\n",
        "if a != b:\n",
        "  print('a y b son distintos')"
      ],
      "metadata": {
        "colab": {
          "base_uri": "https://localhost:8080/"
        },
        "id": "i55NZ_gFA0Va",
        "outputId": "b3024ed2-d449-4937-e2ad-423c96c0610a"
      },
      "execution_count": null,
      "outputs": [
        {
          "output_type": "stream",
          "name": "stdout",
          "text": [
            "a y b son distintos\n"
          ]
        }
      ]
    },
    {
      "cell_type": "code",
      "source": [
        "# Mayor que: a > b\n",
        "a = 4\n",
        "b = 2\n",
        "\n",
        "if a > b:\n",
        "  print('a es mayor que b')"
      ],
      "metadata": {
        "colab": {
          "base_uri": "https://localhost:8080/"
        },
        "id": "ExmbwSc0BAuZ",
        "outputId": "246a5168-1022-42ee-d41e-e3c9e93a1c8c"
      },
      "execution_count": null,
      "outputs": [
        {
          "output_type": "stream",
          "name": "stdout",
          "text": [
            "a es mayor que b\n"
          ]
        }
      ]
    },
    {
      "cell_type": "code",
      "source": [
        "# Menor que: a < b\n",
        "a = 2\n",
        "b = 4\n",
        "\n",
        "if a < b:\n",
        "  print('a es menor que b')"
      ],
      "metadata": {
        "colab": {
          "base_uri": "https://localhost:8080/"
        },
        "id": "TW9c122UBJlE",
        "outputId": "166aa3da-d4bb-4248-8120-34df51c83637"
      },
      "execution_count": null,
      "outputs": [
        {
          "output_type": "stream",
          "name": "stdout",
          "text": [
            "a es menor que b\n"
          ]
        }
      ]
    },
    {
      "cell_type": "markdown",
      "source": [
        "## Condicional Else"
      ],
      "metadata": {
        "id": "p6CQ81OJCZLY"
      }
    },
    {
      "cell_type": "code",
      "source": [
        "a = 4\n",
        "b = 5\n",
        "\n",
        "if a == b:\n",
        "  print('a y b son iguales')\n",
        "else:\n",
        "  print('a y b son diferentes')"
      ],
      "metadata": {
        "colab": {
          "base_uri": "https://localhost:8080/"
        },
        "id": "QLiTHy-H9dng",
        "outputId": "da064c80-e57c-4bdb-c43f-476bd62e29e1"
      },
      "execution_count": null,
      "outputs": [
        {
          "output_type": "stream",
          "name": "stdout",
          "text": [
            "a y b son diferentes\n"
          ]
        }
      ]
    },
    {
      "cell_type": "markdown",
      "source": [
        "## Condicional Elif"
      ],
      "metadata": {
        "id": "wF0oIWmPCl34"
      }
    },
    {
      "cell_type": "code",
      "source": [
        "a = 6\n",
        "b = 5\n",
        "\n",
        "if a == b:\n",
        "  print('a y b son iguales')\n",
        "elif a > b:\n",
        "  print('a es mayor que b')"
      ],
      "metadata": {
        "colab": {
          "base_uri": "https://localhost:8080/"
        },
        "id": "gPLllEO7CoY0",
        "outputId": "b2176e9b-0759-4720-920c-b5b12d852a0d"
      },
      "execution_count": null,
      "outputs": [
        {
          "output_type": "stream",
          "name": "stdout",
          "text": [
            "a es mayor que b\n"
          ]
        }
      ]
    },
    {
      "cell_type": "markdown",
      "source": [
        "## Sentencia While"
      ],
      "metadata": {
        "id": "kMJLiKDfFdsE"
      }
    },
    {
      "cell_type": "code",
      "source": [
        "a = 1\n",
        "while a < 4:\n",
        "  print('Valor a: ', a)\n",
        "  a += 1"
      ],
      "metadata": {
        "colab": {
          "base_uri": "https://localhost:8080/"
        },
        "id": "Usctk8ymF2A0",
        "outputId": "6e7a6643-5864-4495-cdc7-93d6694dc545"
      },
      "execution_count": null,
      "outputs": [
        {
          "output_type": "stream",
          "name": "stdout",
          "text": [
            "Valor a:  1\n",
            "Valor a:  2\n",
            "Valor a:  3\n"
          ]
        }
      ]
    },
    {
      "cell_type": "code",
      "source": [
        "# While con break\n",
        "\n",
        "a = 1\n",
        "while a < 4:\n",
        "  print('Valor a: ', a)\n",
        "  if a == 2:\n",
        "    break\n",
        "  a += 1"
      ],
      "metadata": {
        "colab": {
          "base_uri": "https://localhost:8080/"
        },
        "id": "Sbhh1I8JF9J2",
        "outputId": "c6008ba2-2021-42c1-b18e-95649146dabc"
      },
      "execution_count": null,
      "outputs": [
        {
          "output_type": "stream",
          "name": "stdout",
          "text": [
            "Valor a:  1\n",
            "Valor a:  2\n"
          ]
        }
      ]
    },
    {
      "cell_type": "markdown",
      "source": [
        "## Sentencia For"
      ],
      "metadata": {
        "id": "GGUhvQmkPOX3"
      }
    },
    {
      "cell_type": "code",
      "source": [
        "a = \"palabra\"\n",
        "\n",
        "for letras in a :\n",
        "  print(letras, ',')"
      ],
      "metadata": {
        "colab": {
          "base_uri": "https://localhost:8080/"
        },
        "id": "gWeubO5IPXnz",
        "outputId": "6b14a5d4-889d-432f-d183-fd24d98fad8f"
      },
      "execution_count": null,
      "outputs": [
        {
          "output_type": "stream",
          "name": "stdout",
          "text": [
            "p ,\n",
            "a ,\n",
            "l ,\n",
            "a ,\n",
            "b ,\n",
            "r ,\n",
            "a ,\n"
          ]
        }
      ]
    },
    {
      "cell_type": "markdown",
      "source": [
        "## Funciones"
      ],
      "metadata": {
        "id": "EJ-2Ks5yGn7W"
      }
    },
    {
      "cell_type": "code",
      "source": [
        "# Funcion\n",
        "\n",
        "def mi_funcion_python():\n",
        "  print(\"Esta es mi_funcion en Python\")\n",
        "\n",
        "mi_funcion_python()"
      ],
      "metadata": {
        "colab": {
          "base_uri": "https://localhost:8080/"
        },
        "id": "m94LPv0-GzK4",
        "outputId": "c1b8efef-dbf1-40ad-8eeb-2c92ec3131f3"
      },
      "execution_count": null,
      "outputs": [
        {
          "output_type": "stream",
          "name": "stdout",
          "text": [
            "Esta es mi_funcion en Python\n"
          ]
        }
      ]
    },
    {
      "cell_type": "code",
      "source": [
        "# Funcion con argumentos\n",
        "\n",
        "def mi_funcion_python(arg):\n",
        "  print(\"Esta es mi_funcion en Python, con el argumento\", arg)\n",
        "\n",
        "mi_funcion_python(\"argumento1\")\n",
        "mi_funcion_python(\"argumento2\")\n",
        "mi_funcion_python(\"argumento3\")"
      ],
      "metadata": {
        "colab": {
          "base_uri": "https://localhost:8080/"
        },
        "id": "JKpxKEDhHLG6",
        "outputId": "7bddea08-b942-40d0-aec7-975c6be59d64"
      },
      "execution_count": null,
      "outputs": [
        {
          "output_type": "stream",
          "name": "stdout",
          "text": [
            "Esta es mi_funcion en Python, con el argumento argumento1\n",
            "Esta es mi_funcion en Python, con el argumento argumento2\n",
            "Esta es mi_funcion en Python, con el argumento argumento3\n"
          ]
        }
      ]
    },
    {
      "cell_type": "markdown",
      "source": [
        "## Función Lamba"
      ],
      "metadata": {
        "id": "a3z9rCh4IKiA"
      }
    },
    {
      "cell_type": "code",
      "source": [
        "mi_funcion = lambda a : a + 5\n",
        "print(mi_funcion(5))"
      ],
      "metadata": {
        "colab": {
          "base_uri": "https://localhost:8080/"
        },
        "id": "b_e_OoHrIVVr",
        "outputId": "57c159e5-e72e-46b6-d18f-bc9ddbaf5ec1"
      },
      "execution_count": null,
      "outputs": [
        {
          "output_type": "stream",
          "name": "stdout",
          "text": [
            "10\n"
          ]
        }
      ]
    },
    {
      "cell_type": "code",
      "source": [
        "mi_funcion = lambda a, b : a * b\n",
        "print(mi_funcion(5, 5))"
      ],
      "metadata": {
        "colab": {
          "base_uri": "https://localhost:8080/"
        },
        "id": "4PlXkU6nIf5d",
        "outputId": "aeb916f3-e719-4fd5-acbc-a992e9ac065f"
      },
      "execution_count": null,
      "outputs": [
        {
          "output_type": "stream",
          "name": "stdout",
          "text": [
            "25\n"
          ]
        }
      ]
    },
    {
      "cell_type": "markdown",
      "source": [
        "## Arrays"
      ],
      "metadata": {
        "id": "PUC9sdYoI3dR"
      }
    },
    {
      "cell_type": "code",
      "source": [
        "mi_array = [\"elemento1\", \"elemento2\", \"elemento3\"]"
      ],
      "metadata": {
        "id": "Xa9rWaSAI6ak"
      },
      "execution_count": null,
      "outputs": []
    },
    {
      "cell_type": "code",
      "source": [
        "# Selecciono un elemento de mi array\n",
        "mi_array[1]"
      ],
      "metadata": {
        "colab": {
          "base_uri": "https://localhost:8080/",
          "height": 35
        },
        "id": "FbuGx51kJGXI",
        "outputId": "1fe8c967-7330-49a1-8732-f827b29c0be5"
      },
      "execution_count": null,
      "outputs": [
        {
          "output_type": "execute_result",
          "data": {
            "text/plain": [
              "'elemento2'"
            ],
            "application/vnd.google.colaboratory.intrinsic+json": {
              "type": "string"
            }
          },
          "metadata": {},
          "execution_count": 47
        }
      ]
    },
    {
      "cell_type": "code",
      "source": [
        "# Cantidad de elementos de mi array\n",
        "len(mi_array)"
      ],
      "metadata": {
        "colab": {
          "base_uri": "https://localhost:8080/"
        },
        "id": "QFECvIf0JROM",
        "outputId": "e0743cbd-3144-47f1-ca54-216ed88bf421"
      },
      "execution_count": null,
      "outputs": [
        {
          "output_type": "execute_result",
          "data": {
            "text/plain": [
              "3"
            ]
          },
          "metadata": {},
          "execution_count": 48
        }
      ]
    },
    {
      "cell_type": "code",
      "source": [
        "# Agregar un elemento a mi array\n",
        "mi_array.append(\"elemento4\")\n",
        "mi_array[3]"
      ],
      "metadata": {
        "colab": {
          "base_uri": "https://localhost:8080/",
          "height": 35
        },
        "id": "mSDd9l6DJdQP",
        "outputId": "ead4ee16-4fc6-47b4-ab8c-bcb29df4a9e8"
      },
      "execution_count": null,
      "outputs": [
        {
          "output_type": "execute_result",
          "data": {
            "text/plain": [
              "'elemento4'"
            ],
            "application/vnd.google.colaboratory.intrinsic+json": {
              "type": "string"
            }
          },
          "metadata": {},
          "execution_count": 54
        }
      ]
    },
    {
      "cell_type": "code",
      "source": [
        "# Eliminar un elemento de mi array\n",
        "mi_array.remove(\"elemento4\")\n",
        "len(mi_array)"
      ],
      "metadata": {
        "colab": {
          "base_uri": "https://localhost:8080/"
        },
        "id": "fiJuasgxJhhq",
        "outputId": "d9470277-7a81-43bd-faff-4790d8f06eb2"
      },
      "execution_count": null,
      "outputs": [
        {
          "output_type": "execute_result",
          "data": {
            "text/plain": [
              "3"
            ]
          },
          "metadata": {},
          "execution_count": 55
        }
      ]
    },
    {
      "cell_type": "markdown",
      "source": [
        "## Try Except"
      ],
      "metadata": {
        "id": "iOHXFbxQKgCq"
      }
    },
    {
      "cell_type": "code",
      "source": [
        "try:\n",
        "  print(variable)\n",
        "except:\n",
        "  print(\"Ha ocurrido un error\")"
      ],
      "metadata": {
        "colab": {
          "base_uri": "https://localhost:8080/"
        },
        "id": "rJ5iowBgKp0b",
        "outputId": "46463bba-2692-4ca6-b327-cf680af23fa8"
      },
      "execution_count": null,
      "outputs": [
        {
          "output_type": "stream",
          "name": "stdout",
          "text": [
            "Ha ocurrido un error\n"
          ]
        }
      ]
    },
    {
      "cell_type": "markdown",
      "source": [
        "## Ingresar Datos"
      ],
      "metadata": {
        "id": "xFrAHZNZK7cS"
      }
    },
    {
      "cell_type": "code",
      "source": [
        "num = input(\"Ingrese un número:\")\n",
        "print(\"El número es: \" + num)"
      ],
      "metadata": {
        "colab": {
          "base_uri": "https://localhost:8080/"
        },
        "id": "5En4Uy33K_7y",
        "outputId": "c302d230-14bd-4c7f-e9a2-fb0cc7cfd138"
      },
      "execution_count": null,
      "outputs": [
        {
          "output_type": "stream",
          "name": "stdout",
          "text": [
            "Ingrese un número:5\n",
            "El número es: 5\n"
          ]
        }
      ]
    },
    {
      "cell_type": "markdown",
      "source": [
        "## Clases"
      ],
      "metadata": {
        "id": "HYKdz4D_M_K6"
      }
    },
    {
      "cell_type": "code",
      "source": [
        "# Crear una clase\n",
        "\n",
        "class Perro:\n",
        "  def __init__(self, nombre, raza, edad):\n",
        "    self.nombre = nombre\n",
        "    self.raza = raza\n",
        "    self.edad = edad"
      ],
      "metadata": {
        "id": "9v96aJwYNCUf"
      },
      "execution_count": 1,
      "outputs": []
    },
    {
      "cell_type": "code",
      "source": [
        "# Crear objeto\n",
        "\n",
        "a = Perro(\"Tom\", \"Doberman\", 5)\n",
        "b = Perro(\"Max\", \"Cocker\", 5)"
      ],
      "metadata": {
        "id": "pO-RW8GmNsF3"
      },
      "execution_count": 2,
      "outputs": []
    },
    {
      "cell_type": "code",
      "source": [
        "# Atributos objetos\n",
        "\n",
        "print('El nombre del primer perro es: ', a.nombre, 'su raza es', a.raza)\n",
        "print('El nombre del segundo perro es: ', b.nombre, 'su raza es', b.raza)"
      ],
      "metadata": {
        "colab": {
          "base_uri": "https://localhost:8080/"
        },
        "id": "nB8dYMf2OVPa",
        "outputId": "6a9b707b-28f1-4258-a706-54ab82b660ce"
      },
      "execution_count": 6,
      "outputs": [
        {
          "output_type": "stream",
          "name": "stdout",
          "text": [
            "El nombre del primer perro es:  Tom su raza es Doberman\n",
            "El nombre del segundo perro es:  Max su raza es Cocker\n"
          ]
        }
      ]
    },
    {
      "cell_type": "code",
      "source": [
        "# Borrar objetos\n",
        "\n",
        "del a"
      ],
      "metadata": {
        "id": "SJE3MJkIOmAm"
      },
      "execution_count": null,
      "outputs": []
    }
  ]
}